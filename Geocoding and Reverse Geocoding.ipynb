{
 "cells": [
  {
   "cell_type": "code",
   "execution_count": 32,
   "id": "73f248aa",
   "metadata": {},
   "outputs": [],
   "source": [
    "import pandas as pd\n",
    "import folium\n",
    "from geopy.geocoders import Nominatim\n",
    "from geopy.point import Point\n",
    "import numpy as np"
   ]
  },
  {
   "cell_type": "markdown",
   "id": "802d27bc",
   "metadata": {},
   "source": [
    "## REVERSE GEOCODING"
   ]
  },
  {
   "cell_type": "code",
   "execution_count": 2,
   "id": "b5579c91",
   "metadata": {},
   "outputs": [],
   "source": [
    "df = pd.read_csv(\"C:/Users/TANVI/Desktop/zomato_locations.csv\")"
   ]
  },
  {
   "cell_type": "code",
   "execution_count": 3,
   "id": "8444be5d",
   "metadata": {
    "scrolled": true
   },
   "outputs": [
    {
     "data": {
      "text/html": [
       "<div>\n",
       "<style scoped>\n",
       "    .dataframe tbody tr th:only-of-type {\n",
       "        vertical-align: middle;\n",
       "    }\n",
       "\n",
       "    .dataframe tbody tr th {\n",
       "        vertical-align: top;\n",
       "    }\n",
       "\n",
       "    .dataframe thead th {\n",
       "        text-align: right;\n",
       "    }\n",
       "</style>\n",
       "<table border=\"1\" class=\"dataframe\">\n",
       "  <thead>\n",
       "    <tr style=\"text-align: right;\">\n",
       "      <th></th>\n",
       "      <th>Name</th>\n",
       "      <th>count</th>\n",
       "      <th>lat</th>\n",
       "      <th>lon</th>\n",
       "      <th>avg_rating</th>\n",
       "    </tr>\n",
       "  </thead>\n",
       "  <tbody>\n",
       "    <tr>\n",
       "      <th>0</th>\n",
       "      <td>BTM</td>\n",
       "      <td>5124</td>\n",
       "      <td>45.954851</td>\n",
       "      <td>-112.496595</td>\n",
       "      <td>4.1</td>\n",
       "    </tr>\n",
       "    <tr>\n",
       "      <th>1</th>\n",
       "      <td>HSR</td>\n",
       "      <td>2523</td>\n",
       "      <td>18.147500</td>\n",
       "      <td>41.538889</td>\n",
       "      <td>4.1</td>\n",
       "    </tr>\n",
       "  </tbody>\n",
       "</table>\n",
       "</div>"
      ],
      "text/plain": [
       "  Name  count        lat         lon  avg_rating\n",
       "0  BTM   5124  45.954851 -112.496595         4.1\n",
       "1  HSR   2523  18.147500   41.538889         4.1"
      ]
     },
     "execution_count": 3,
     "metadata": {},
     "output_type": "execute_result"
    }
   ],
   "source": [
    "df.head(2)"
   ]
  },
  {
   "cell_type": "code",
   "execution_count": 4,
   "id": "78932576",
   "metadata": {},
   "outputs": [
    {
     "data": {
      "text/plain": [
       "(88, 5)"
      ]
     },
     "execution_count": 4,
     "metadata": {},
     "output_type": "execute_result"
    }
   ],
   "source": [
    "df.shape"
   ]
  },
  {
   "cell_type": "code",
   "execution_count": 5,
   "id": "746da195",
   "metadata": {},
   "outputs": [
    {
     "data": {
      "text/plain": [
       "Name          0\n",
       "count         0\n",
       "lat           0\n",
       "lon           0\n",
       "avg_rating    0\n",
       "dtype: int64"
      ]
     },
     "execution_count": 5,
     "metadata": {},
     "output_type": "execute_result"
    }
   ],
   "source": [
    "df.isnull().sum()"
   ]
  },
  {
   "cell_type": "code",
   "execution_count": 6,
   "id": "9610176c",
   "metadata": {},
   "outputs": [],
   "source": [
    "df[\"geom\"] = df[\"lat\"].map(str)+','+df[\"lon\"].map(str)"
   ]
  },
  {
   "cell_type": "code",
   "execution_count": 7,
   "id": "f93f1b8b",
   "metadata": {
    "scrolled": true
   },
   "outputs": [
    {
     "data": {
      "text/html": [
       "<div>\n",
       "<style scoped>\n",
       "    .dataframe tbody tr th:only-of-type {\n",
       "        vertical-align: middle;\n",
       "    }\n",
       "\n",
       "    .dataframe tbody tr th {\n",
       "        vertical-align: top;\n",
       "    }\n",
       "\n",
       "    .dataframe thead th {\n",
       "        text-align: right;\n",
       "    }\n",
       "</style>\n",
       "<table border=\"1\" class=\"dataframe\">\n",
       "  <thead>\n",
       "    <tr style=\"text-align: right;\">\n",
       "      <th></th>\n",
       "      <th>Name</th>\n",
       "      <th>count</th>\n",
       "      <th>lat</th>\n",
       "      <th>lon</th>\n",
       "      <th>avg_rating</th>\n",
       "      <th>geom</th>\n",
       "    </tr>\n",
       "  </thead>\n",
       "  <tbody>\n",
       "    <tr>\n",
       "      <th>0</th>\n",
       "      <td>BTM</td>\n",
       "      <td>5124</td>\n",
       "      <td>45.954851</td>\n",
       "      <td>-112.496595</td>\n",
       "      <td>4.1</td>\n",
       "      <td>45.95485055,-112.4965953</td>\n",
       "    </tr>\n",
       "    <tr>\n",
       "      <th>1</th>\n",
       "      <td>HSR</td>\n",
       "      <td>2523</td>\n",
       "      <td>18.147500</td>\n",
       "      <td>41.538889</td>\n",
       "      <td>4.1</td>\n",
       "      <td>18.1475,41.538889000000005</td>\n",
       "    </tr>\n",
       "  </tbody>\n",
       "</table>\n",
       "</div>"
      ],
      "text/plain": [
       "  Name  count        lat         lon  avg_rating                        geom\n",
       "0  BTM   5124  45.954851 -112.496595         4.1    45.95485055,-112.4965953\n",
       "1  HSR   2523  18.147500   41.538889         4.1  18.1475,41.538889000000005"
      ]
     },
     "execution_count": 7,
     "metadata": {},
     "output_type": "execute_result"
    }
   ],
   "source": [
    "df.head(2)"
   ]
  },
  {
   "cell_type": "markdown",
   "id": "432cf10d",
   "metadata": {},
   "source": [
    "### For address"
   ]
  },
  {
   "cell_type": "code",
   "execution_count": 8,
   "id": "a4ea0fcd",
   "metadata": {},
   "outputs": [],
   "source": [
    "from geopy.extra.rate_limiter import RateLimiter"
   ]
  },
  {
   "cell_type": "code",
   "execution_count": 9,
   "id": "5082056d",
   "metadata": {},
   "outputs": [],
   "source": [
    "locator = Nominatim(user_agent=\"myGeocoder\",timeout=10)\n",
    "rgeocode = RateLimiter(locator.reverse,min_delay_seconds=0.01)"
   ]
  },
  {
   "cell_type": "code",
   "execution_count": 10,
   "id": "71cd75be",
   "metadata": {},
   "outputs": [
    {
     "name": "stderr",
     "output_type": "stream",
     "text": [
      "<ipython-input-10-7d50d41ead12>:2: TqdmDeprecationWarning: This function will be removed in tqdm==5.0.0\n",
      "Please use `tqdm.notebook.*` instead of `tqdm._tqdm_notebook.*`\n",
      "  from tqdm._tqdm_notebook import tqdm_notebook\n"
     ]
    }
   ],
   "source": [
    "import tqdm\n",
    "from tqdm._tqdm_notebook import tqdm_notebook"
   ]
  },
  {
   "cell_type": "code",
   "execution_count": 11,
   "id": "1b43ffaa",
   "metadata": {},
   "outputs": [
    {
     "name": "stderr",
     "output_type": "stream",
     "text": [
      "C:\\Users\\TANVI\\anaconda3\\lib\\site-packages\\tqdm\\std.py:697: FutureWarning: The Panel class is removed from pandas. Accessing it from the top-level namespace will also be removed in the next version\n",
      "  from pandas import Panel\n"
     ]
    }
   ],
   "source": [
    "from tqdm import tqdm\n",
    "tqdm.pandas()"
   ]
  },
  {
   "cell_type": "code",
   "execution_count": 12,
   "id": "e5b00492",
   "metadata": {},
   "outputs": [
    {
     "name": "stderr",
     "output_type": "stream",
     "text": [
      "100%|██████████████████████████████████████████████████████████████████████████████████| 88/88 [00:44<00:00,  1.99it/s]\n"
     ]
    }
   ],
   "source": [
    "df[\"address\"]=df[\"geom\"].progress_apply(rgeocode)"
   ]
  },
  {
   "cell_type": "code",
   "execution_count": 13,
   "id": "e5c9635d",
   "metadata": {},
   "outputs": [],
   "source": [
    "df[\"address\"] = df[\"address\"].astype(str)"
   ]
  },
  {
   "cell_type": "code",
   "execution_count": 14,
   "id": "13f02887",
   "metadata": {},
   "outputs": [
    {
     "data": {
      "text/html": [
       "<div>\n",
       "<style scoped>\n",
       "    .dataframe tbody tr th:only-of-type {\n",
       "        vertical-align: middle;\n",
       "    }\n",
       "\n",
       "    .dataframe tbody tr th {\n",
       "        vertical-align: top;\n",
       "    }\n",
       "\n",
       "    .dataframe thead th {\n",
       "        text-align: right;\n",
       "    }\n",
       "</style>\n",
       "<table border=\"1\" class=\"dataframe\">\n",
       "  <thead>\n",
       "    <tr style=\"text-align: right;\">\n",
       "      <th></th>\n",
       "      <th>Name</th>\n",
       "      <th>count</th>\n",
       "      <th>lat</th>\n",
       "      <th>lon</th>\n",
       "      <th>avg_rating</th>\n",
       "      <th>geom</th>\n",
       "      <th>address</th>\n",
       "    </tr>\n",
       "  </thead>\n",
       "  <tbody>\n",
       "    <tr>\n",
       "      <th>0</th>\n",
       "      <td>BTM</td>\n",
       "      <td>5124</td>\n",
       "      <td>45.954851</td>\n",
       "      <td>-112.496595</td>\n",
       "      <td>4.1</td>\n",
       "      <td>45.95485055,-112.4965953</td>\n",
       "      <td>Bert Mooney Airport, Four Mile Road, Butte, Si...</td>\n",
       "    </tr>\n",
       "    <tr>\n",
       "      <th>1</th>\n",
       "      <td>HSR</td>\n",
       "      <td>2523</td>\n",
       "      <td>18.147500</td>\n",
       "      <td>41.538889</td>\n",
       "      <td>4.1</td>\n",
       "      <td>18.1475,41.538889000000005</td>\n",
       "      <td>محافظة البرك, منطقة عسير, السعودية</td>\n",
       "    </tr>\n",
       "    <tr>\n",
       "      <th>2</th>\n",
       "      <td>Koramangala 5th Block</td>\n",
       "      <td>2504</td>\n",
       "      <td>12.934377</td>\n",
       "      <td>77.628415</td>\n",
       "      <td>3.8</td>\n",
       "      <td>12.9343774,77.628415</td>\n",
       "      <td>DeltaX, 168, 14th Main Road, Koramangala 4th B...</td>\n",
       "    </tr>\n",
       "    <tr>\n",
       "      <th>3</th>\n",
       "      <td>JP Nagar</td>\n",
       "      <td>2235</td>\n",
       "      <td>12.265594</td>\n",
       "      <td>76.646540</td>\n",
       "      <td>3.7</td>\n",
       "      <td>12.2655944,76.6465404</td>\n",
       "      <td>JP Nagar, Mysuru, Mysuru taluk, Mysuru distric...</td>\n",
       "    </tr>\n",
       "    <tr>\n",
       "      <th>4</th>\n",
       "      <td>Whitefield</td>\n",
       "      <td>2144</td>\n",
       "      <td>44.373058</td>\n",
       "      <td>-71.611858</td>\n",
       "      <td>3.8</td>\n",
       "      <td>44.373057700000004,-71.6118577</td>\n",
       "      <td>Village Gun Store, 4, Kings Square, Whitefield...</td>\n",
       "    </tr>\n",
       "  </tbody>\n",
       "</table>\n",
       "</div>"
      ],
      "text/plain": [
       "                    Name  count        lat         lon  avg_rating  \\\n",
       "0                    BTM   5124  45.954851 -112.496595         4.1   \n",
       "1                    HSR   2523  18.147500   41.538889         4.1   \n",
       "2  Koramangala 5th Block   2504  12.934377   77.628415         3.8   \n",
       "3               JP Nagar   2235  12.265594   76.646540         3.7   \n",
       "4             Whitefield   2144  44.373058  -71.611858         3.8   \n",
       "\n",
       "                             geom  \\\n",
       "0        45.95485055,-112.4965953   \n",
       "1      18.1475,41.538889000000005   \n",
       "2            12.9343774,77.628415   \n",
       "3           12.2655944,76.6465404   \n",
       "4  44.373057700000004,-71.6118577   \n",
       "\n",
       "                                             address  \n",
       "0  Bert Mooney Airport, Four Mile Road, Butte, Si...  \n",
       "1                 محافظة البرك, منطقة عسير, السعودية  \n",
       "2  DeltaX, 168, 14th Main Road, Koramangala 4th B...  \n",
       "3  JP Nagar, Mysuru, Mysuru taluk, Mysuru distric...  \n",
       "4  Village Gun Store, 4, Kings Square, Whitefield...  "
      ]
     },
     "execution_count": 14,
     "metadata": {},
     "output_type": "execute_result"
    }
   ],
   "source": [
    "df.head()"
   ]
  },
  {
   "cell_type": "markdown",
   "id": "13bcf777",
   "metadata": {},
   "source": [
    "### For city, state, town"
   ]
  },
  {
   "cell_type": "code",
   "execution_count": 15,
   "id": "685e05dd",
   "metadata": {},
   "outputs": [],
   "source": [
    "import reverse_geocoder as rg"
   ]
  },
  {
   "cell_type": "code",
   "execution_count": 16,
   "id": "6baf7c55",
   "metadata": {},
   "outputs": [],
   "source": [
    "geolocator = Nominatim(user_agent=\"test\")\n",
    "\n",
    "def reverse_geocoding(lat,lon):\n",
    "    try:\n",
    "        location = geolocator.reverse(Point(lat,lon))\n",
    "        return location.raw['display_name']\n",
    "    except:\n",
    "        return None\n",
    "        "
   ]
  },
  {
   "cell_type": "code",
   "execution_count": 17,
   "id": "86eb342f",
   "metadata": {},
   "outputs": [],
   "source": [
    "def reverseGeocode(coordinates):\n",
    "    result = rg.search(coordinates)\n",
    "    return (result)"
   ]
  },
  {
   "cell_type": "code",
   "execution_count": 18,
   "id": "0f959836",
   "metadata": {},
   "outputs": [
    {
     "name": "stdout",
     "output_type": "stream",
     "text": [
      "Loading formatted geocoded file...\n"
     ]
    }
   ],
   "source": [
    "if __name__ == \"__main__\":\n",
    "    \n",
    "    coordinates = list(zip(df[\"lat\"],df[\"lon\"])) # generating coordinate pair\n",
    "    data = reverseGeocode(coordinates)\n",
    "    df[\"City/Town_Name\"] = [i[\"name\"] for i in data]\n",
    "    df[\"State\"] = [i[\"admin1\"] for i in data]\n",
    "    df[\"District\"] = [i[\"admin2\"] for i in data]\n"
   ]
  },
  {
   "cell_type": "code",
   "execution_count": 19,
   "id": "1a752838",
   "metadata": {},
   "outputs": [
    {
     "data": {
      "text/html": [
       "<div>\n",
       "<style scoped>\n",
       "    .dataframe tbody tr th:only-of-type {\n",
       "        vertical-align: middle;\n",
       "    }\n",
       "\n",
       "    .dataframe tbody tr th {\n",
       "        vertical-align: top;\n",
       "    }\n",
       "\n",
       "    .dataframe thead th {\n",
       "        text-align: right;\n",
       "    }\n",
       "</style>\n",
       "<table border=\"1\" class=\"dataframe\">\n",
       "  <thead>\n",
       "    <tr style=\"text-align: right;\">\n",
       "      <th></th>\n",
       "      <th>Name</th>\n",
       "      <th>count</th>\n",
       "      <th>lat</th>\n",
       "      <th>lon</th>\n",
       "      <th>avg_rating</th>\n",
       "      <th>geom</th>\n",
       "      <th>address</th>\n",
       "      <th>City/Town_Name</th>\n",
       "      <th>State</th>\n",
       "      <th>District</th>\n",
       "    </tr>\n",
       "  </thead>\n",
       "  <tbody>\n",
       "    <tr>\n",
       "      <th>0</th>\n",
       "      <td>BTM</td>\n",
       "      <td>5124</td>\n",
       "      <td>45.954851</td>\n",
       "      <td>-112.496595</td>\n",
       "      <td>4.1</td>\n",
       "      <td>45.95485055,-112.4965953</td>\n",
       "      <td>Bert Mooney Airport, Four Mile Road, Butte, Si...</td>\n",
       "      <td>Butte</td>\n",
       "      <td>Montana</td>\n",
       "      <td>Silver Bow County</td>\n",
       "    </tr>\n",
       "    <tr>\n",
       "      <th>1</th>\n",
       "      <td>HSR</td>\n",
       "      <td>2523</td>\n",
       "      <td>18.147500</td>\n",
       "      <td>41.538889</td>\n",
       "      <td>4.1</td>\n",
       "      <td>18.1475,41.538889000000005</td>\n",
       "      <td>محافظة البرك, منطقة عسير, السعودية</td>\n",
       "      <td>Ad Darb</td>\n",
       "      <td>Jizan</td>\n",
       "      <td></td>\n",
       "    </tr>\n",
       "    <tr>\n",
       "      <th>2</th>\n",
       "      <td>Koramangala 5th Block</td>\n",
       "      <td>2504</td>\n",
       "      <td>12.934377</td>\n",
       "      <td>77.628415</td>\n",
       "      <td>3.8</td>\n",
       "      <td>12.9343774,77.628415</td>\n",
       "      <td>DeltaX, 168, 14th Main Road, Koramangala 4th B...</td>\n",
       "      <td>Bangalore</td>\n",
       "      <td>Karnataka</td>\n",
       "      <td>Bangalore Urban</td>\n",
       "    </tr>\n",
       "    <tr>\n",
       "      <th>3</th>\n",
       "      <td>JP Nagar</td>\n",
       "      <td>2235</td>\n",
       "      <td>12.265594</td>\n",
       "      <td>76.646540</td>\n",
       "      <td>3.7</td>\n",
       "      <td>12.2655944,76.6465404</td>\n",
       "      <td>JP Nagar, Mysuru, Mysuru taluk, Mysuru distric...</td>\n",
       "      <td>Mysore</td>\n",
       "      <td>Karnataka</td>\n",
       "      <td>Mysore</td>\n",
       "    </tr>\n",
       "    <tr>\n",
       "      <th>4</th>\n",
       "      <td>Whitefield</td>\n",
       "      <td>2144</td>\n",
       "      <td>44.373058</td>\n",
       "      <td>-71.611858</td>\n",
       "      <td>3.8</td>\n",
       "      <td>44.373057700000004,-71.6118577</td>\n",
       "      <td>Village Gun Store, 4, Kings Square, Whitefield...</td>\n",
       "      <td>Whitefield</td>\n",
       "      <td>New Hampshire</td>\n",
       "      <td>Coos County</td>\n",
       "    </tr>\n",
       "  </tbody>\n",
       "</table>\n",
       "</div>"
      ],
      "text/plain": [
       "                    Name  count        lat         lon  avg_rating  \\\n",
       "0                    BTM   5124  45.954851 -112.496595         4.1   \n",
       "1                    HSR   2523  18.147500   41.538889         4.1   \n",
       "2  Koramangala 5th Block   2504  12.934377   77.628415         3.8   \n",
       "3               JP Nagar   2235  12.265594   76.646540         3.7   \n",
       "4             Whitefield   2144  44.373058  -71.611858         3.8   \n",
       "\n",
       "                             geom  \\\n",
       "0        45.95485055,-112.4965953   \n",
       "1      18.1475,41.538889000000005   \n",
       "2            12.9343774,77.628415   \n",
       "3           12.2655944,76.6465404   \n",
       "4  44.373057700000004,-71.6118577   \n",
       "\n",
       "                                             address City/Town_Name  \\\n",
       "0  Bert Mooney Airport, Four Mile Road, Butte, Si...          Butte   \n",
       "1                 محافظة البرك, منطقة عسير, السعودية        Ad Darb   \n",
       "2  DeltaX, 168, 14th Main Road, Koramangala 4th B...      Bangalore   \n",
       "3  JP Nagar, Mysuru, Mysuru taluk, Mysuru distric...         Mysore   \n",
       "4  Village Gun Store, 4, Kings Square, Whitefield...     Whitefield   \n",
       "\n",
       "           State           District  \n",
       "0        Montana  Silver Bow County  \n",
       "1          Jizan                     \n",
       "2      Karnataka    Bangalore Urban  \n",
       "3      Karnataka             Mysore  \n",
       "4  New Hampshire        Coos County  "
      ]
     },
     "execution_count": 19,
     "metadata": {},
     "output_type": "execute_result"
    }
   ],
   "source": [
    "df.head()"
   ]
  },
  {
   "cell_type": "code",
   "execution_count": 20,
   "id": "fdbc3c7d",
   "metadata": {},
   "outputs": [
    {
     "data": {
      "text/plain": [
       "array(['Montana', 'Jizan', 'Karnataka', 'New Hampshire', 'Western Region',\n",
       "       'Banten', 'Calabarzon', 'Pennsylvania', 'Telangana', 'England',\n",
       "       'Virginia', 'South Carolina', 'Maharashtra', 'Alabama', '',\n",
       "       'Andhra Pradesh', 'North Carolina', 'Indiana', 'Tamil Nadu',\n",
       "       'Gujarat', 'Madhya Pradesh', 'California'], dtype=object)"
      ]
     },
     "execution_count": 20,
     "metadata": {},
     "output_type": "execute_result"
    }
   ],
   "source": [
    "df.State.unique()"
   ]
  },
  {
   "cell_type": "markdown",
   "id": "b3ee7360",
   "metadata": {},
   "source": [
    "# Geocoding"
   ]
  },
  {
   "cell_type": "code",
   "execution_count": 47,
   "id": "f63a85fd",
   "metadata": {},
   "outputs": [],
   "source": [
    "df2 = df.copy()"
   ]
  },
  {
   "cell_type": "code",
   "execution_count": 48,
   "id": "649a053b",
   "metadata": {},
   "outputs": [],
   "source": [
    "df2 = df2.drop(columns=[\"lat\",\"lon\"])"
   ]
  },
  {
   "cell_type": "code",
   "execution_count": 49,
   "id": "cf6026bd",
   "metadata": {},
   "outputs": [
    {
     "data": {
      "text/plain": [
       "Index(['Name', 'count', 'avg_rating', 'geom', 'address', 'City/Town_Name',\n",
       "       'State', 'District'],\n",
       "      dtype='object')"
      ]
     },
     "execution_count": 49,
     "metadata": {},
     "output_type": "execute_result"
    }
   ],
   "source": [
    "df2.columns"
   ]
  },
  {
   "cell_type": "code",
   "execution_count": 52,
   "id": "e9e7583f",
   "metadata": {},
   "outputs": [],
   "source": [
    "from geopy.geocoders import Nominatim\n",
    "from geopy.extra.rate_limiter import RateLimiter"
   ]
  },
  {
   "cell_type": "code",
   "execution_count": 53,
   "id": "146454a7",
   "metadata": {},
   "outputs": [
    {
     "name": "stdout",
     "output_type": "stream",
     "text": [
      "Walmart Garden Center, 4550, Kester Mill Road, Winston-Salem, Forsyth County, North Carolina, 27103, United States\n",
      "(36.0681622, -80.3369862)\n"
     ]
    }
   ],
   "source": [
    "geolocator = Nominatim(user_agent = \"test\",timeout=10)\n",
    "location = geolocator.geocode('4550 Kester Mill Rd,Winston-Salem,NC')\n",
    "print(location)\n",
    "print((location.latitude, location.longitude))"
   ]
  },
  {
   "cell_type": "code",
   "execution_count": 54,
   "id": "adb21da2",
   "metadata": {},
   "outputs": [],
   "source": [
    "locator = Nominatim(user_agent=\"test\")\n",
    "geocode_with_delay=RateLimiter(geolocator.geocode,min_delay_seconds=1)\n",
    "\n",
    "# Apply the geocoder with delay using the rate limiter:\n",
    "df2['temp'] = df2['address'].apply(geocode_with_delay)\n",
    "\n",
    "# Get point coordinates from the GeoPy location object on each row:\n",
    "df2[\"coords\"] = df2['temp'].apply(lambda loc: tuple(loc.point) if loc else None)"
   ]
  },
  {
   "cell_type": "code",
   "execution_count": 55,
   "id": "26026fd0",
   "metadata": {},
   "outputs": [
    {
     "data": {
      "text/html": [
       "<div>\n",
       "<style scoped>\n",
       "    .dataframe tbody tr th:only-of-type {\n",
       "        vertical-align: middle;\n",
       "    }\n",
       "\n",
       "    .dataframe tbody tr th {\n",
       "        vertical-align: top;\n",
       "    }\n",
       "\n",
       "    .dataframe thead th {\n",
       "        text-align: right;\n",
       "    }\n",
       "</style>\n",
       "<table border=\"1\" class=\"dataframe\">\n",
       "  <thead>\n",
       "    <tr style=\"text-align: right;\">\n",
       "      <th></th>\n",
       "      <th>Name</th>\n",
       "      <th>count</th>\n",
       "      <th>avg_rating</th>\n",
       "      <th>geom</th>\n",
       "      <th>address</th>\n",
       "      <th>City/Town_Name</th>\n",
       "      <th>State</th>\n",
       "      <th>District</th>\n",
       "      <th>temp</th>\n",
       "      <th>coords</th>\n",
       "    </tr>\n",
       "  </thead>\n",
       "  <tbody>\n",
       "    <tr>\n",
       "      <th>0</th>\n",
       "      <td>BTM</td>\n",
       "      <td>5124</td>\n",
       "      <td>4.1</td>\n",
       "      <td>45.95485055,-112.4965953</td>\n",
       "      <td>Bert Mooney Airport, Four Mile Road, Butte, Si...</td>\n",
       "      <td>Butte</td>\n",
       "      <td>Montana</td>\n",
       "      <td>Silver Bow County</td>\n",
       "      <td>(Bert Mooney Airport, Four Mile Road, Butte, S...</td>\n",
       "      <td>(45.95485055, -112.49659530324134, 0.0)</td>\n",
       "    </tr>\n",
       "    <tr>\n",
       "      <th>1</th>\n",
       "      <td>HSR</td>\n",
       "      <td>2523</td>\n",
       "      <td>4.1</td>\n",
       "      <td>18.1475,41.538889000000005</td>\n",
       "      <td>محافظة البرك, منطقة عسير, السعودية</td>\n",
       "      <td>Ad Darb</td>\n",
       "      <td>Jizan</td>\n",
       "      <td></td>\n",
       "      <td>(محافظة البرك, منطقة عسير, السعودية, (18.34017...</td>\n",
       "      <td>(18.34017205, 41.59380149983622, 0.0)</td>\n",
       "    </tr>\n",
       "    <tr>\n",
       "      <th>2</th>\n",
       "      <td>Koramangala 5th Block</td>\n",
       "      <td>2504</td>\n",
       "      <td>3.8</td>\n",
       "      <td>12.9343774,77.628415</td>\n",
       "      <td>DeltaX, 168, 14th Main Road, Koramangala 4th B...</td>\n",
       "      <td>Bangalore</td>\n",
       "      <td>Karnataka</td>\n",
       "      <td>Bangalore Urban</td>\n",
       "      <td>(DeltaX, 168, 14th Main Road, Koramangala 4th ...</td>\n",
       "      <td>(12.933717999999999, 77.62762641852459, 0.0)</td>\n",
       "    </tr>\n",
       "    <tr>\n",
       "      <th>3</th>\n",
       "      <td>JP Nagar</td>\n",
       "      <td>2235</td>\n",
       "      <td>3.7</td>\n",
       "      <td>12.2655944,76.6465404</td>\n",
       "      <td>JP Nagar, Mysuru, Mysuru taluk, Mysuru distric...</td>\n",
       "      <td>Mysore</td>\n",
       "      <td>Karnataka</td>\n",
       "      <td>Mysore</td>\n",
       "      <td>(JP Nagar, Mysuru, Mysuru taluk, Mysuru distri...</td>\n",
       "      <td>(12.2655944, 76.6465404, 0.0)</td>\n",
       "    </tr>\n",
       "    <tr>\n",
       "      <th>4</th>\n",
       "      <td>Whitefield</td>\n",
       "      <td>2144</td>\n",
       "      <td>3.8</td>\n",
       "      <td>44.373057700000004,-71.6118577</td>\n",
       "      <td>Village Gun Store, 4, Kings Square, Whitefield...</td>\n",
       "      <td>Whitefield</td>\n",
       "      <td>New Hampshire</td>\n",
       "      <td>Coos County</td>\n",
       "      <td>(Village Gun Store, 4, Kings Square, Whitefiel...</td>\n",
       "      <td>(44.3730155, -71.6116267, 0.0)</td>\n",
       "    </tr>\n",
       "  </tbody>\n",
       "</table>\n",
       "</div>"
      ],
      "text/plain": [
       "                    Name  count  avg_rating                            geom  \\\n",
       "0                    BTM   5124         4.1        45.95485055,-112.4965953   \n",
       "1                    HSR   2523         4.1      18.1475,41.538889000000005   \n",
       "2  Koramangala 5th Block   2504         3.8            12.9343774,77.628415   \n",
       "3               JP Nagar   2235         3.7           12.2655944,76.6465404   \n",
       "4             Whitefield   2144         3.8  44.373057700000004,-71.6118577   \n",
       "\n",
       "                                             address City/Town_Name  \\\n",
       "0  Bert Mooney Airport, Four Mile Road, Butte, Si...          Butte   \n",
       "1                 محافظة البرك, منطقة عسير, السعودية        Ad Darb   \n",
       "2  DeltaX, 168, 14th Main Road, Koramangala 4th B...      Bangalore   \n",
       "3  JP Nagar, Mysuru, Mysuru taluk, Mysuru distric...         Mysore   \n",
       "4  Village Gun Store, 4, Kings Square, Whitefield...     Whitefield   \n",
       "\n",
       "           State           District  \\\n",
       "0        Montana  Silver Bow County   \n",
       "1          Jizan                      \n",
       "2      Karnataka    Bangalore Urban   \n",
       "3      Karnataka             Mysore   \n",
       "4  New Hampshire        Coos County   \n",
       "\n",
       "                                                temp  \\\n",
       "0  (Bert Mooney Airport, Four Mile Road, Butte, S...   \n",
       "1  (محافظة البرك, منطقة عسير, السعودية, (18.34017...   \n",
       "2  (DeltaX, 168, 14th Main Road, Koramangala 4th ...   \n",
       "3  (JP Nagar, Mysuru, Mysuru taluk, Mysuru distri...   \n",
       "4  (Village Gun Store, 4, Kings Square, Whitefiel...   \n",
       "\n",
       "                                         coords  \n",
       "0       (45.95485055, -112.49659530324134, 0.0)  \n",
       "1         (18.34017205, 41.59380149983622, 0.0)  \n",
       "2  (12.933717999999999, 77.62762641852459, 0.0)  \n",
       "3                 (12.2655944, 76.6465404, 0.0)  \n",
       "4                (44.3730155, -71.6116267, 0.0)  "
      ]
     },
     "execution_count": 55,
     "metadata": {},
     "output_type": "execute_result"
    }
   ],
   "source": [
    "df2.head()"
   ]
  },
  {
   "cell_type": "code",
   "execution_count": null,
   "id": "1ff1580f",
   "metadata": {},
   "outputs": [],
   "source": []
  }
 ],
 "metadata": {
  "kernelspec": {
   "display_name": "Python 3",
   "language": "python",
   "name": "python3"
  },
  "language_info": {
   "codemirror_mode": {
    "name": "ipython",
    "version": 3
   },
   "file_extension": ".py",
   "mimetype": "text/x-python",
   "name": "python",
   "nbconvert_exporter": "python",
   "pygments_lexer": "ipython3",
   "version": "3.8.5"
  }
 },
 "nbformat": 4,
 "nbformat_minor": 5
}
